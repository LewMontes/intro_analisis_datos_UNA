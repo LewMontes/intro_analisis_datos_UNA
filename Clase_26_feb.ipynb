{
  "nbformat": 4,
  "nbformat_minor": 0,
  "metadata": {
    "colab": {
      "provenance": []
    },
    "kernelspec": {
      "name": "python3",
      "display_name": "Python 3"
    },
    "language_info": {
      "name": "python"
    }
  },
  "cells": [
    {
      "cell_type": "code",
      "execution_count": null,
      "metadata": {
        "colab": {
          "base_uri": "https://localhost:8080/"
        },
        "id": "Sa8a5j8V0NNS",
        "outputId": "fc7eebae-8a00-4b26-82da-088991841bf7"
      },
      "outputs": [
        {
          "output_type": "stream",
          "name": "stdout",
          "text": [
            "Ejercicio 4\n",
            "Digite la cantidad de partidos ganados: 3\n",
            "Digite la cantidad de partidos perdidos: 1\n",
            "Digite la cantidad de partidos empatados: 5\n",
            "El puntaje total es de:  14\n"
          ]
        }
      ],
      "source": [
        "print(\"Ejercicio 4\")\n",
        "Ganados = int(input(\"Digite la cantidad de partidos ganados: \"))\n",
        "Perdidos = int(input(\"Digite la cantidad de partidos perdidos: \"))\n",
        "Empatados = int(input(\"Digite la cantidad de partidos empatados: \"))\n",
        "PF = (Ganados*3)+(0*Perdidos)+(1*Empatados)\n",
        "print(\"El puntaje total es de: \", PF)"
      ]
    },
    {
      "cell_type": "code",
      "source": [
        "import math\n",
        "print(\"Ejercicio 6\")\n",
        "x1 = float(input(\"Digite el valor de x1: \"))\n",
        "x2 = float(input(\"Digite el valor de x2: \"))\n",
        "y1 = float(input(\"Digite el valor de y1: \"))\n",
        "y2 = float(input(\"Digite el valor de y2: \"))\n",
        "formula = math.sqrt((x2-x1)**2 + (y2-y1)**2)\n",
        "print(\"El valor de la distancia entre dos puntos es de: \", formula)"
      ],
      "metadata": {
        "colab": {
          "base_uri": "https://localhost:8080/"
        },
        "id": "alEsp8K41cmY",
        "outputId": "89b5fa24-25b3-4c53-f97a-1b010ec6ffcd"
      },
      "execution_count": null,
      "outputs": [
        {
          "output_type": "stream",
          "name": "stdout",
          "text": [
            "Ejercicio 6\n",
            "Digite el valor de x1: 12\n",
            "Digite el valor de x2: 5\n",
            "Digite el valor de y1: 25\n",
            "Digite el valor de y2: 10\n",
            "El valor de la distancia entre dos puntos es de:  16.55294535724685\n"
          ]
        }
      ]
    }
  ]
}