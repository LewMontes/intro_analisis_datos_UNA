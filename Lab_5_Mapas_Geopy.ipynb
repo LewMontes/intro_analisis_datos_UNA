{
  "nbformat": 4,
  "nbformat_minor": 0,
  "metadata": {
    "colab": {
      "provenance": []
    },
    "kernelspec": {
      "name": "python3",
      "display_name": "Python 3"
    },
    "language_info": {
      "name": "python"
    }
  },
  "cells": [
    {
      "cell_type": "code",
      "execution_count": null,
      "metadata": {
        "colab": {
          "base_uri": "https://localhost:8080/"
        },
        "id": "MuIHhkmqRc8_",
        "outputId": "0900bf3f-42ad-4ace-f6f5-49d63ef40f35"
      },
      "outputs": [
        {
          "output_type": "stream",
          "name": "stdout",
          "text": [
            "Ubicacion encontrada\n",
            "Direccion:  Costa Rica\n",
            "Latitud:  10.2735633\n",
            "Longitud:  -84.0739102\n",
            "La distancia entre las dos ubicaciones es de: 3181.9802877808474 km\n",
            "Ubicacion encontrada\n",
            "Direccion:  Taj Mahal, Taj East Gate Road, Taj Ganj, Agra, Agra District, Uttar Pradesh, 282004, India\n",
            "Latitud:  27.1750075\n",
            "Longitud:  78.04210126365584\n"
          ]
        }
      ],
      "source": [
        "from geopy.geocoders import Nominatim\n",
        "from geopy.distance import geodesic\n",
        "from google.colab import files\n",
        "import folium\n",
        "\n",
        "geolocator = Nominatim(user_agent=\"stemcoder\")\n",
        "\n",
        "#Encontrar la ubicacion de Costa Rica\n",
        "\n",
        "location = geolocator.geocode(\"Costa Rica\")\n",
        "\n",
        "if location is not None:\n",
        "  print(\"Ubicacion encontrada\")\n",
        "  print(\"Direccion: \", location.address)\n",
        "  print(\"Latitud: \", location.latitude)\n",
        "  print(\"Longitud: \", location.longitude)\n",
        "else:\n",
        "  print(\"Ubicacion no encontrada\")\n",
        "\n",
        "#Coordenadas del centro Costa Rica\n",
        "\n",
        "lat, lon = 9.9258, -84.0918\n",
        "\n",
        "costa_rica_map = folium.Map(location=[location.latitude, location.longitude], zoom_start=7)\n",
        "costa_rica_map.save(\"CostaRica.html\")\n",
        "#files.download(\"CostaRica.html\")\n",
        "\n",
        "costa_rica_map\n",
        "\n",
        "#Calcular la distancia entre dos ubicaciones por su lat y long\n",
        "\n",
        "#New York\n",
        "lat1, lon1 = 40.7058, -73.9135\n",
        "#Salt Lake City\n",
        "lat2, lon2 = 40.7610, -111.8847\n",
        "\n",
        "distance = geodesic((lat1, lon1),(lat2, lon2))\n",
        "print(\"La distancia entre las dos ubicaciones es de: %s\" %(distance))\n",
        "\n",
        "#Ubicacion del Taj Mahal\n",
        "\n",
        "ubicacion = \"Taj Mahal\"\n",
        "\n",
        "location = geolocator.geocode(ubicacion)\n",
        "\n",
        "if location is not None:\n",
        "  print(\"Ubicacion encontrada\")\n",
        "  print(\"Direccion: \", location.address)\n",
        "  print(\"Latitud: \", location.latitude)\n",
        "  print(\"Longitud: \", location.longitude)\n",
        "else:\n",
        "  print(\"Ubicacion no encontrada\")"
      ]
    },
    {
      "cell_type": "code",
      "source": [
        "#1. Individual\n",
        "#A. Buscar un lugar que quiero visitar\n",
        "#B. Calcular distancia de ese lugar con CR\n",
        "#C. Generar el mapa en HTML de ese lugar\n",
        "#D. Subir el codigo en Python y el Mapa\n",
        "\n",
        "latCR, lonCR = 9.9258, -84.0918\n",
        "latRCM, lonRCM = 4.6042, 73.5803\n",
        "\n",
        "distance = geodesic((latCR, lonCR), (latRCM, lonRCM))\n",
        "print(\"La distancia entre el destino y Costa Rica es: %s\" %(distance))\n",
        "\n",
        "map = folium.Map(location=[latRCM, lonRCM], zoom_start=7)\n",
        "costa_rica_map.save(\"DestinationMap.html\")"
      ],
      "metadata": {
        "id": "3kxt1zoofsNQ"
      },
      "execution_count": null,
      "outputs": []
    }
  ]
}