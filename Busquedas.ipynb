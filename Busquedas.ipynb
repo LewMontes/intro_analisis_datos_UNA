{
  "nbformat": 4,
  "nbformat_minor": 0,
  "metadata": {
    "colab": {
      "provenance": [],
      "include_colab_link": true
    },
    "kernelspec": {
      "name": "python3",
      "display_name": "Python 3"
    },
    "language_info": {
      "name": "python"
    }
  },
  "cells": [
    {
      "cell_type": "markdown",
      "metadata": {
        "id": "view-in-github",
        "colab_type": "text"
      },
      "source": [
        "<a href=\"https://colab.research.google.com/github/LewMontes/intro_analisis_datos_UNA/blob/master/Busquedas.ipynb\" target=\"_parent\"><img src=\"https://colab.research.google.com/assets/colab-badge.svg\" alt=\"Open In Colab\"/></a>"
      ]
    },
    {
      "cell_type": "markdown",
      "source": [
        "Realice 2 preguntas\n",
        "\n",
        "1.   Un grupo de datos por dos columnas\n",
        "2.   Realizar un sort de un grupo de datos y colocar los primeros 10\\\n",
        "3.   Realizar un calculo de un promedio y explicarlo"
      ],
      "metadata": {
        "id": "5--WdwU0apJG"
      }
    },
    {
      "cell_type": "code",
      "execution_count": null,
      "metadata": {
        "colab": {
          "base_uri": "https://localhost:8080/"
        },
        "id": "zFnRQoReal0B",
        "outputId": "60afa4de-473e-411c-90ba-ab0ebf80130b"
      },
      "outputs": [
        {
          "output_type": "stream",
          "name": "stdout",
          "text": [
            "   Country Name Country Code  \\\n",
            "92   Costa Rica          CRI   \n",
            "\n",
            "                                       Indicator Name Indicator Code  \\\n",
            "92  Adolescent fertility rate (births per 1,000 wo...    SP.ADO.TFRT   \n",
            "\n",
            "        1960      1961     1962      1963      1964      1965  ...     2008  \\\n",
            "92  123.3204  122.9342  122.548  119.5214  116.4948  113.4682  ...  62.8094   \n",
            "\n",
            "       2009     2010     2011    2012     2013     2014     2015     2016  \\\n",
            "92  62.0488  61.2882  60.5276  59.767  58.5056  57.2442  55.9828  54.7214   \n",
            "\n",
            "     2017  \n",
            "92  53.46  \n",
            "\n",
            "[1 rows x 62 columns]\n"
          ]
        }
      ],
      "source": [
        "#1 Un grupo de datos por dos columnas\n",
        "import pandas as pd\n",
        "import matplotlib.pyplot as plt\n",
        "\n",
        "df=pd.read_csv('/content/AdolescentFertility.csv')\n",
        "data=pd.DataFrame(df)\n",
        "#print(data)\n",
        "\n",
        "dataFilteredBy2007_2017 = data.loc[(data['2017']==53.46)&(data['2007']==63.57)]\n",
        "print(dataFilteredBy2007_2017)"
      ]
    },
    {
      "cell_type": "code",
      "source": [
        "#2 Realizar un sort de un grupo de datos y colocar los primeros 10\n",
        "print(data.sort_values(by='2017', ascending=False)[['Country Name', '2017']].head(10))\n"
      ],
      "metadata": {
        "id": "dlHP5du8c6Iz",
        "colab": {
          "base_uri": "https://localhost:8080/"
        },
        "outputId": "f9289ef5-b98f-492a-d80a-2c23fadbff9a"
      },
      "execution_count": null,
      "outputs": [
        {
          "output_type": "stream",
          "name": "stdout",
          "text": [
            "                 Country Name     2017\n",
            "189                     Niger  186.538\n",
            "168                      Mali  169.127\n",
            "84                       Chad  161.090\n",
            "106         Equatorial Guinea  155.622\n",
            "51                     Angola  150.526\n",
            "180                Mozambique  148.626\n",
            "158                   Liberia  135.962\n",
            "127                    Guinea  135.294\n",
            "165                    Malawi  132.671\n",
            "83   Central African Republic  129.074\n"
          ]
        }
      ]
    },
    {
      "cell_type": "code",
      "source": [
        "#3 Realizar un calculo de un promedio y explicarlo\n",
        "\n",
        "import pandas as pd\n",
        "import matplotlib.pyplot as plt\n",
        "\n",
        "df=pd.read_csv('/content/AdolescentFertility.csv')\n",
        "data=pd.DataFrame(df)\n",
        "\n",
        "dataFiltered = data.loc[(data['Country Name'] == \"Costa Rica\")]\n",
        "\n",
        "dataFiltered1 = dataFiltered.drop(['Country Name', 'Country Code','Indicator Name','Indicator Code'], axis=1)\n",
        "dataFiltered2 = dataFiltered1.sum()\n",
        "\n",
        "print(dataFiltered2.mean())"
      ],
      "metadata": {
        "id": "x7QJWqY5c55G",
        "outputId": "e0d324ba-1e09-4201-f83a-c7d9e3590b21",
        "colab": {
          "base_uri": "https://localhost:8080/"
        }
      },
      "execution_count": null,
      "outputs": [
        {
          "output_type": "stream",
          "name": "stdout",
          "text": [
            "88.14178620689655\n"
          ]
        }
      ]
    }
  ]
}