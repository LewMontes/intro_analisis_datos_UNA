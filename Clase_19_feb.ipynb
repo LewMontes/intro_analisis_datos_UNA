{
  "nbformat": 4,
  "nbformat_minor": 0,
  "metadata": {
    "colab": {
      "provenance": []
    },
    "kernelspec": {
      "name": "python3",
      "display_name": "Python 3"
    },
    "language_info": {
      "name": "python"
    }
  },
  "cells": [
    {
      "cell_type": "markdown",
      "source": [
        "**Laboratorio 1: Ejercicio basico del curso Introduccion al Analisis de Datos**"
      ],
      "metadata": {
        "id": "wTaLebXaWcPb"
      }
    },
    {
      "cell_type": "code",
      "execution_count": null,
      "metadata": {
        "colab": {
          "base_uri": "https://localhost:8080/"
        },
        "id": "p6gI1lEgVphg",
        "outputId": "b210b217-4725-415f-acb7-f45e599abb1c"
      },
      "outputs": [
        {
          "output_type": "stream",
          "name": "stdout",
          "text": [
            "Hello World\n"
          ]
        }
      ],
      "source": [
        "print(\"Hello World\")"
      ]
    },
    {
      "cell_type": "code",
      "source": [
        "import math"
      ],
      "metadata": {
        "id": "KuBOmqHQXp67"
      },
      "execution_count": null,
      "outputs": []
    },
    {
      "cell_type": "code",
      "source": [
        "radio=3.5\n",
        "print(\"El area es: \", math.pi*radio**2)"
      ],
      "metadata": {
        "colab": {
          "base_uri": "https://localhost:8080/"
        },
        "id": "8a7NsjJ5XgUL",
        "outputId": "4e01a29a-3c25-4636-fea9-11916f0946dc"
      },
      "execution_count": null,
      "outputs": [
        {
          "output_type": "stream",
          "name": "stdout",
          "text": [
            "El area es:  38.48451000647496\n"
          ]
        }
      ]
    },
    {
      "cell_type": "code",
      "source": [
        "radio=int(input(\"Digite un valor para el radio\"))\n",
        "print(\"El area es: \", math.pi*radio**2)"
      ],
      "metadata": {
        "colab": {
          "base_uri": "https://localhost:8080/"
        },
        "id": "tQHXFMj-YJx9",
        "outputId": "773ce4f4-a4d8-46d3-bda2-c41884e88795"
      },
      "execution_count": null,
      "outputs": [
        {
          "output_type": "stream",
          "name": "stdout",
          "text": [
            "Digite un valor para el radio8\n",
            "El area es:  201.06192982974676\n"
          ]
        }
      ]
    }
  ]
}