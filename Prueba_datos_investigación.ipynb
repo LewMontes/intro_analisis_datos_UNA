{
  "nbformat": 4,
  "nbformat_minor": 0,
  "metadata": {
    "colab": {
      "provenance": []
    },
    "kernelspec": {
      "name": "python3",
      "display_name": "Python 3"
    },
    "language_info": {
      "name": "python"
    }
  },
  "cells": [
    {
      "cell_type": "code",
      "execution_count": 13,
      "metadata": {
        "colab": {
          "base_uri": "https://localhost:8080/"
        },
        "id": "XLINw_-W6CNG",
        "outputId": "51555212-bc0a-400d-d422-60297bc2bcd2"
      },
      "outputs": [
        {
          "output_type": "stream",
          "name": "stdout",
          "text": [
            "                       Country Name Country Code  \\\n",
            "0                        Arab World          ARB   \n",
            "1            Caribbean small states          CSS   \n",
            "2    Central Europe and the Baltics          CEB   \n",
            "3        Early-demographic dividend          EAR   \n",
            "4               East Asia & Pacific          EAS   \n",
            "..                              ...          ...   \n",
            "258           Virgin Islands (U.S.)          VIR   \n",
            "259              West Bank and Gaza          PSE   \n",
            "260                     Yemen, Rep.          YEM   \n",
            "261                          Zambia          ZMB   \n",
            "262                        Zimbabwe          ZWE   \n",
            "\n",
            "                                        Indicator Name Indicator Code  \\\n",
            "0    Adolescent fertility rate (births per 1,000 wo...    SP.ADO.TFRT   \n",
            "1    Adolescent fertility rate (births per 1,000 wo...    SP.ADO.TFRT   \n",
            "2    Adolescent fertility rate (births per 1,000 wo...    SP.ADO.TFRT   \n",
            "3    Adolescent fertility rate (births per 1,000 wo...    SP.ADO.TFRT   \n",
            "4    Adolescent fertility rate (births per 1,000 wo...    SP.ADO.TFRT   \n",
            "..                                                 ...            ...   \n",
            "258  Adolescent fertility rate (births per 1,000 wo...    SP.ADO.TFRT   \n",
            "259  Adolescent fertility rate (births per 1,000 wo...    SP.ADO.TFRT   \n",
            "260  Adolescent fertility rate (births per 1,000 wo...    SP.ADO.TFRT   \n",
            "261  Adolescent fertility rate (births per 1,000 wo...    SP.ADO.TFRT   \n",
            "262  Adolescent fertility rate (births per 1,000 wo...    SP.ADO.TFRT   \n",
            "\n",
            "           1960        1961        1962        1963        1964        1965  \\\n",
            "0    134.772341  135.343859  136.030214  135.898025  135.721826  135.387563   \n",
            "1    147.708598  147.916423  148.140402  146.763928  145.506336  144.293418   \n",
            "2     46.099010   45.421646   44.702129   44.963229   45.190539   45.410980   \n",
            "3    116.569312  116.880333  117.192743  117.411026  117.557161  117.622810   \n",
            "4     66.008175   64.898630   63.836435   61.968123   60.205322   58.581350   \n",
            "..          ...         ...         ...         ...         ...         ...   \n",
            "258  152.158000  150.614000  149.070000  153.877600  158.685200  163.492800   \n",
            "259  111.260000  113.026000  114.792000  114.789400  114.786800  114.784200   \n",
            "260  166.734000  168.455000  170.176000  172.734600  175.293200  177.851800   \n",
            "261  185.156400  187.031200  188.906000  189.368000  189.830000  190.292000   \n",
            "262  168.873600  170.284800  171.696000  172.166400  172.636800  173.107200   \n",
            "\n",
            "     ...        2008        2009        2010        2011        2012  \\\n",
            "0    ...   50.305287   50.119205   49.966897   49.866891   49.790826   \n",
            "1    ...   64.194810   62.784628   61.260066   59.622888   57.924362   \n",
            "2    ...   22.657945   21.999809   21.486607   21.020078   20.628638   \n",
            "3    ...   51.408747   49.891901   48.365991   46.840450   45.299197   \n",
            "4    ...   18.829707   19.493469   20.072114   20.588082   20.955740   \n",
            "..   ...         ...         ...         ...         ...         ...   \n",
            "258  ...   48.817400   48.049800   47.282200   46.514600   45.747000   \n",
            "259  ...   64.820000   63.813000   62.806000   61.799000   60.792000   \n",
            "260  ...   74.814400   73.028800   71.243200   69.457600   67.672000   \n",
            "261  ...  146.506400  144.053800  141.601200  139.148600  136.696000   \n",
            "262  ...  110.641400  110.191800  109.742200  109.292600  108.843000   \n",
            "\n",
            "           2013        2014        2015        2016        2017  \n",
            "0     49.344963   48.853665   48.279737   47.505489   46.688851  \n",
            "1     56.700230   55.446735   54.172126   52.832054   51.475865  \n",
            "2     20.427722   20.249537   20.065620   19.868736   19.679083  \n",
            "3     43.681515   42.042102   40.385228   38.684204   36.982288  \n",
            "4     20.911591   20.837378   20.792729   20.730182   20.668231  \n",
            "..          ...         ...         ...         ...         ...  \n",
            "258   42.375000   39.003000   35.631000   32.259000   28.887000  \n",
            "259   59.186800   57.581600   55.976400   54.371200   52.766000  \n",
            "260   66.208000   64.744000   63.280000   61.816000   60.352000  \n",
            "261  133.379200  130.062400  126.745600  123.428800  120.112000  \n",
            "262  104.301400   99.759800   95.218200   90.676600   86.135000  \n",
            "\n",
            "[263 rows x 62 columns]\n",
            "43.3054096414981\n",
            "186.538\n",
            "0.0\n",
            "11389.322735714\n",
            "38.965856345095375\n"
          ]
        }
      ],
      "source": [
        "import pandas as pd\n",
        "import csv\n",
        "\n",
        "csv_path = \"AdolescentFertility.csv\"\n",
        "df = pd.read_csv(csv_path)\n",
        "df = df.fillna(0)\n",
        "print(df)\n",
        "\n",
        "print(df['2017'].mean())\n",
        "print(df['2017'].max())\n",
        "print(df['2017'].min())\n",
        "print(df['2017'].sum())\n",
        "print(df['2017'].std())"
      ]
    },
    {
      "cell_type": "markdown",
      "source": [
        "# New Section"
      ],
      "metadata": {
        "id": "CjDUdsMf-hxi"
      }
    }
  ]
}